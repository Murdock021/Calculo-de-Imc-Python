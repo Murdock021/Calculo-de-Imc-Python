{
 "cells": [
  {
   "cell_type": "code",
   "execution_count": 7,
   "metadata": {},
   "outputs": [
    {
     "name": "stdout",
     "output_type": "stream",
     "text": [
      "Oi Izabela Assunção Vamos iniciar o seu teste de IMC...\n"
     ]
    }
   ],
   "source": [
    "nome = str (input(\"Qual seu Nome ? \"))\n",
    "sobrenome = str (input(\"Qual seu Sobrenome ?\"))\n",
    "\n",
    "print(\"Oi\",nome,sobrenome, \"Vamos iniciar o seu teste de IMC...\")\n"
   ]
  },
  {
   "cell_type": "code",
   "execution_count": 8,
   "metadata": {},
   "outputs": [
    {
     "name": "stdout",
     "output_type": "stream",
     "text": [
      "Izabela Assunção o seu IMC é 32.4\n"
     ]
    }
   ],
   "source": [
    "peso = float(input(\"Qual o seu peso (em Kg):\"))\n",
    "altura = float(input(\"Qual é a sua altura(em metros): \"))\n",
    "\n",
    "imc = peso / (altura ** 2)\n",
    "\n",
    "print (nome,sobrenome,\"o seu IMC é {:.1f}\".format(imc))"
   ]
  },
  {
   "cell_type": "code",
   "execution_count": 9,
   "metadata": {},
   "outputs": [
    {
     "name": "stdout",
     "output_type": "stream",
     "text": [
      "Izabela Assunção Você tem obesidade grau I\n"
     ]
    }
   ],
   "source": [
    "if imc <18.5:\n",
    "    print(nome,sobrenome,\"Você está abaixo do peso ideal\")\n",
    "elif 18.5 <=imc<24.9:\n",
    "    print(nome,sobrenome,\"Você está no peso normal\")\n",
    "elif 24.9<=imc<29.9:\n",
    "    print(nome,sobrenome,\"Você está acima do peso ideal\")\n",
    "else:\n",
    "    print(nome,sobrenome,\"Você tem obesidade grau I\")\n"
   ]
  }
 ],
 "metadata": {
  "kernelspec": {
   "display_name": "base",
   "language": "python",
   "name": "python3"
  },
  "language_info": {
   "codemirror_mode": {
    "name": "ipython",
    "version": 3
   },
   "file_extension": ".py",
   "mimetype": "text/x-python",
   "name": "python",
   "nbconvert_exporter": "python",
   "pygments_lexer": "ipython3",
   "version": "3.9.13"
  }
 },
 "nbformat": 4,
 "nbformat_minor": 2
}
